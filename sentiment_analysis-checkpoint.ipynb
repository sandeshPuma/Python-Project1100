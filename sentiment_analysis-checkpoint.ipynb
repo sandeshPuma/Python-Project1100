{
 "cells": [
  {
   "cell_type": "code",
   "execution_count": 49,
   "id": "8a31c8db",
   "metadata": {},
   "outputs": [
    {
     "data": {
      "text/html": [
       "<div>\n",
       "<style scoped>\n",
       "    .dataframe tbody tr th:only-of-type {\n",
       "        vertical-align: middle;\n",
       "    }\n",
       "\n",
       "    .dataframe tbody tr th {\n",
       "        vertical-align: top;\n",
       "    }\n",
       "\n",
       "    .dataframe thead th {\n",
       "        text-align: right;\n",
       "    }\n",
       "</style>\n",
       "<table border=\"1\" class=\"dataframe\">\n",
       "  <thead>\n",
       "    <tr style=\"text-align: right;\">\n",
       "      <th></th>\n",
       "      <th>Reviews</th>\n",
       "      <th>Sentiment</th>\n",
       "    </tr>\n",
       "  </thead>\n",
       "  <tbody>\n",
       "    <tr>\n",
       "      <th>0</th>\n",
       "      <td>&lt;START this film was just brilliant casting lo...</td>\n",
       "      <td>positive</td>\n",
       "    </tr>\n",
       "    <tr>\n",
       "      <th>1</th>\n",
       "      <td>&lt;START big hair big boobs bad music and a gian...</td>\n",
       "      <td>negative</td>\n",
       "    </tr>\n",
       "    <tr>\n",
       "      <th>2</th>\n",
       "      <td>&lt;START this has to be one of the worst films o...</td>\n",
       "      <td>negative</td>\n",
       "    </tr>\n",
       "    <tr>\n",
       "      <th>3</th>\n",
       "      <td>&lt;START the &lt;UNK&gt; &lt;UNK&gt; at storytelling the tra...</td>\n",
       "      <td>positive</td>\n",
       "    </tr>\n",
       "    <tr>\n",
       "      <th>4</th>\n",
       "      <td>&lt;START worst mistake of my life br br i picked...</td>\n",
       "      <td>negative</td>\n",
       "    </tr>\n",
       "  </tbody>\n",
       "</table>\n",
       "</div>"
      ],
      "text/plain": [
       "                                             Reviews Sentiment\n",
       "0  <START this film was just brilliant casting lo...  positive\n",
       "1  <START big hair big boobs bad music and a gian...  negative\n",
       "2  <START this has to be one of the worst films o...  negative\n",
       "3  <START the <UNK> <UNK> at storytelling the tra...  positive\n",
       "4  <START worst mistake of my life br br i picked...  negative"
      ]
     },
     "execution_count": 49,
     "metadata": {},
     "output_type": "execute_result"
    }
   ],
   "source": [
    "import pandas as pd\n",
    "df = pd.read_csv(\"imdb_reviews.csv\")\n",
    "df.head()"
   ]
  },
  {
   "cell_type": "code",
   "execution_count": 63,
   "id": "cff4838a",
   "metadata": {},
   "outputs": [],
   "source": [
    "# lowercase sentiments\n",
    "df.Reviews = df.Reviews.str.lower()\n",
    "# Lapping category 0 and 1\n",
    "df.Sentiment = df.Sentiment.map({'positive':1,'negative':0})"
   ]
  },
  {
   "cell_type": "code",
   "execution_count": 64,
   "id": "382d3ab1",
   "metadata": {},
   "outputs": [],
   "source": [
    "from sklearn.model_selection import train_test_split\n",
    "X = df.Reviews\n",
    "y = df.Sentiment\n",
    "X_train, X_test, y_train, y_test = train_test_split(X, y,test_size = 0.25, random_state = 40)"
   ]
  },
  {
   "cell_type": "code",
   "execution_count": null,
   "id": "718e9f78",
   "metadata": {},
   "outputs": [],
   "source": []
  },
  {
   "cell_type": "code",
   "execution_count": 65,
   "id": "47748401",
   "metadata": {},
   "outputs": [],
   "source": [
    "# taking text into vector"
   ]
  },
  {
   "cell_type": "code",
   "execution_count": 79,
   "id": "e4715927",
   "metadata": {},
   "outputs": [],
   "source": [
    "max_tokens = 10000\n",
    "output_sequence_length = 100"
   ]
  },
  {
   "cell_type": "code",
   "execution_count": 80,
   "id": "75b5717a",
   "metadata": {},
   "outputs": [],
   "source": [
    "import tensorflow as tf\n",
    "vectorizer = tf.keras.layers.TextVectorization(max_tokens = max_tokens, output_sequence_length = output_sequence_length )\n"
   ]
  },
  {
   "cell_type": "code",
   "execution_count": 81,
   "id": "3cde65ce",
   "metadata": {},
   "outputs": [],
   "source": [
    "# adapt on x_train\n",
    "vectorizer.adapt(X_train)\n",
    "train_vector = vectorizer(X_train)\n",
    "test_vector = vectorizer(X_test)"
   ]
  },
  {
   "cell_type": "code",
   "execution_count": null,
   "id": "4c3b9e71",
   "metadata": {},
   "outputs": [],
   "source": []
  },
  {
   "cell_type": "code",
   "execution_count": 84,
   "id": "9e2f7b9b",
   "metadata": {},
   "outputs": [],
   "source": [
    "#deep neural network\n",
    "model = tf.keras.Sequential()\n",
    "model.add(tf.keras.layers.Dense(128, activation = 'relu', input_shape=[100]))\n",
    "model.add(tf.keras.layers.Dense(68, activation = 'relu'))\n",
    "model.add(tf.keras.layers.Dense(24, activation = 'relu'))\n",
    "model.add(tf.keras.layers.Dense(1, activation = 'sigmoid'))\n",
    "model.compile(optimizer = 'adam', loss = 'binary_crossentropy', metrics = ['accuracy'])"
   ]
  },
  {
   "cell_type": "code",
   "execution_count": null,
   "id": "50d6e33c",
   "metadata": {},
   "outputs": [
    {
     "name": "stdout",
     "output_type": "stream",
     "text": [
      "Epoch 1/10\n",
      "586/586 [==============================] - 8s 11ms/step - loss: 3.1857 - accuracy: 0.5005 - val_loss: 0.6932 - val_accuracy: 0.4954\n",
      "Epoch 2/10\n",
      "586/586 [==============================] - 6s 10ms/step - loss: 0.6932 - accuracy: 0.4997 - val_loss: 0.6932 - val_accuracy: 0.4954\n",
      "Epoch 3/10\n",
      "586/586 [==============================] - 6s 10ms/step - loss: 0.6932 - accuracy: 0.5015 - val_loss: 0.6932 - val_accuracy: 0.4954\n",
      "Epoch 4/10\n",
      "586/586 [==============================] - 6s 10ms/step - loss: 0.6932 - accuracy: 0.4980 - val_loss: 0.6932 - val_accuracy: 0.4954\n",
      "Epoch 5/10\n",
      "586/586 [==============================] - 6s 11ms/step - loss: 0.6932 - accuracy: 0.5002 - val_loss: 0.6932 - val_accuracy: 0.4954\n",
      "Epoch 6/10\n",
      "586/586 [==============================] - 6s 11ms/step - loss: 0.6932 - accuracy: 0.4996 - val_loss: 0.6932 - val_accuracy: 0.4954\n",
      "Epoch 7/10\n",
      "586/586 [==============================] - 6s 10ms/step - loss: 0.6932 - accuracy: 0.5033 - val_loss: 0.6931 - val_accuracy: 0.5046\n",
      "Epoch 8/10\n",
      "496/586 [========================>.....] - ETA: 0s - loss: 0.6932 - accuracy: 0.4987"
     ]
    }
   ],
   "source": [
    "history = model.fit(train_vector, y_train, validation_data = (test_vector, y_test), epochs = 10)"
   ]
  },
  {
   "cell_type": "code",
   "execution_count": null,
   "id": "5187b080",
   "metadata": {},
   "outputs": [],
   "source": []
  },
  {
   "cell_type": "code",
   "execution_count": null,
   "id": "1ca0c811",
   "metadata": {},
   "outputs": [],
   "source": []
  },
  {
   "cell_type": "code",
   "execution_count": null,
   "id": "d16d8a5f",
   "metadata": {},
   "outputs": [],
   "source": []
  }
 ],
 "metadata": {
  "kernelspec": {
   "display_name": "Python 3 (ipykernel)",
   "language": "python",
   "name": "python3"
  },
  "language_info": {
   "codemirror_mode": {
    "name": "ipython",
    "version": 3
   },
   "file_extension": ".py",
   "mimetype": "text/x-python",
   "name": "python",
   "nbconvert_exporter": "python",
   "pygments_lexer": "ipython3",
   "version": "3.11.2"
  }
 },
 "nbformat": 4,
 "nbformat_minor": 5
}
